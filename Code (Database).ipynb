{
 "cells": [
  {
   "cell_type": "markdown",
   "id": "6fde89c5",
   "metadata": {},
   "source": [
    "# Editing SQL Database"
   ]
  },
  {
   "cell_type": "markdown",
   "id": "c1185dd9",
   "metadata": {},
   "source": [
    "Sound files are identified by instrument + player + klass\n",
    "\n",
    "Example: klass: 'good-sounds' = 'reference' folder\n",
    "\n",
    "Sound files are named in the format: instrument_player_klasscategory"
   ]
  },
  {
   "cell_type": "markdown",
   "id": "5c0b599d",
   "metadata": {},
   "source": [
    "### Connecting to database and cleaning up"
   ]
  },
  {
   "cell_type": "code",
   "execution_count": 17,
   "id": "f251e43b",
   "metadata": {},
   "outputs": [
    {
     "name": "stdout",
     "output_type": "stream",
     "text": [
      "[('packs',), ('takes',), ('ratings',), ('sounds',), ('sounds_emptyklass',), ('violinSounds',)]\n"
     ]
    }
   ],
   "source": [
    "import sqlite3 \n",
    "sqliteConnection = sqlite3.connect('database.sqlite')\n",
    "cursor = sqliteConnection.cursor()\n",
    "\n",
    "# Test connection\n",
    "sql_query = \"\"\"SELECT name FROM sqlite_master WHERE type='table';\"\"\"\n",
    "cursor.execute(sql_query)\n",
    "print(cursor.fetchall())"
   ]
  },
  {
   "cell_type": "code",
   "execution_count": 23,
   "id": "f2f10392-29ac-4020-8f9e-83828bade8a8",
   "metadata": {},
   "outputs": [
    {
     "name": "stdout",
     "output_type": "stream",
     "text": [
      "Requirement already satisfied: pandas in /home/roy/anaconda3/envs/cw24/lib/python3.9/site-packages (2.2.1)\n",
      "Collecting openpyxl\n",
      "  Downloading openpyxl-3.1.5-py2.py3-none-any.whl.metadata (2.5 kB)\n",
      "Requirement already satisfied: numpy<2,>=1.22.4 in /home/roy/anaconda3/envs/cw24/lib/python3.9/site-packages (from pandas) (1.26.4)\n",
      "Requirement already satisfied: python-dateutil>=2.8.2 in /home/roy/anaconda3/envs/cw24/lib/python3.9/site-packages (from pandas) (2.9.0.post0)\n",
      "Requirement already satisfied: pytz>=2020.1 in /home/roy/anaconda3/envs/cw24/lib/python3.9/site-packages (from pandas) (2024.1)\n",
      "Requirement already satisfied: tzdata>=2022.7 in /home/roy/anaconda3/envs/cw24/lib/python3.9/site-packages (from pandas) (2024.1)\n",
      "Collecting et-xmlfile (from openpyxl)\n",
      "  Downloading et_xmlfile-2.0.0-py3-none-any.whl.metadata (2.7 kB)\n",
      "Requirement already satisfied: six>=1.5 in /home/roy/anaconda3/envs/cw24/lib/python3.9/site-packages (from python-dateutil>=2.8.2->pandas) (1.16.0)\n",
      "Downloading openpyxl-3.1.5-py2.py3-none-any.whl (250 kB)\n",
      "\u001b[2K   \u001b[90m━━━━━━━━━━━━━━━━━━━━━━━━━━━━━━━━━━━━━━━━\u001b[0m \u001b[32m250.9/250.9 kB\u001b[0m \u001b[31m14.4 MB/s\u001b[0m eta \u001b[36m0:00:00\u001b[0m\n",
      "\u001b[?25hDownloading et_xmlfile-2.0.0-py3-none-any.whl (18 kB)\n",
      "Installing collected packages: et-xmlfile, openpyxl\n",
      "Successfully installed et-xmlfile-2.0.0 openpyxl-3.1.5\n",
      "Note: you may need to restart the kernel to use updated packages.\n"
     ]
    }
   ],
   "source": [
    "%pip install pandas openpyxl"
   ]
  },
  {
   "cell_type": "code",
   "execution_count": 24,
   "id": "0fa5cdcf-9f9b-4397-b5aa-905b10b71a32",
   "metadata": {},
   "outputs": [
    {
     "name": "stdout",
     "output_type": "stream",
     "text": [
      "Table exported to 'table_info.xlsx'\n"
     ]
    }
   ],
   "source": [
    "import pandas as pd\n",
    "\n",
    "sql_query = \"\"\"PRAGMA table_info(sounds);\"\"\"\n",
    "cursor.execute(sql_query)\n",
    "\n",
    "# Fetch the results\n",
    "columns_info = cursor.fetchall()\n",
    "\n",
    "# Define column names\n",
    "columns = [\"cid\", \"name\", \"type\", \"notnull\", \"dflt_value\", \"pk\"]\n",
    "\n",
    "# Create a pandas DataFrame\n",
    "df = pd.DataFrame(columns_info, columns=columns)\n",
    "\n",
    "# Export the DataFrame to an Excel file\n",
    "df.to_excel(\"table_info.xlsx\", index=False, engine=\"openpyxl\")\n",
    "\n",
    "print(\"Table exported to 'table_info.xlsx'\")\n"
   ]
  },
  {
   "cell_type": "raw",
   "id": "a42f8e2a",
   "metadata": {
    "vscode": {
     "languageId": "raw"
    }
   },
   "source": [
    "#DO NOT RUN AGAIN\n",
    "\n",
    "# Cleaning the dataset to remove rows with NULL values\n",
    "\n",
    "# populate column folder from packs table\n",
    "query = \"\"\"UPDATE sounds\n",
    "            SET folder = (\n",
    "                SELECT packs.name\n",
    "                FROM packs\n",
    "                WHERE packs.id = sounds.pack_id\n",
    "            )\"\"\"\n",
    "\n",
    "cursor.execute(query)\n",
    "\n",
    "# delete records with empty folder (cannot locate audio samples)\n",
    "query = \"\"\"DELETE FROM sounds\n",
    "            WHERE folder IS NULL;\"\"\"  #2 rows deleted\n",
    "\n",
    "cursor.execute(query)\n",
    "\n",
    "# extract out data with empty klass into another table and delete them from master\n",
    "query = \"\"\"CREATE TABLE sounds_emptyklass AS \n",
    "  SELECT *\n",
    "  FROM sounds\n",
    "  WHERE klass IS NULL;\"\"\"\n",
    "\n",
    "cursor.execute(query)\n",
    "\n",
    "query = \"\"\"DELETE FROM sounds WHERE klass IS NULL OR klass = ''\"\"\"\n",
    "\n",
    "cursor.execute(query)\n",
    "\n",
    "sqliteConnection.commit()"
   ]
  },
  {
   "cell_type": "code",
   "execution_count": 6,
   "id": "1b0b39a7",
   "metadata": {},
   "outputs": [],
   "source": [
    "#filter out violin instrument into a new table\n",
    "query = \"\"\"CREATE TABLE violinSounds AS \n",
    "            SELECT * FROM sounds WHERE instrument = 'violin'\"\"\"\n",
    "cursor.execute(query)\n",
    "#1383 rows of data\n",
    "sqliteConnection.commit()"
   ]
  },
  {
   "cell_type": "code",
   "execution_count": 9,
   "id": "19d6c994",
   "metadata": {},
   "outputs": [
    {
     "name": "stdout",
     "output_type": "stream",
     "text": [
      "[('violin_raquel_reference',), ('violin_raquel_dynamics_stability',), ('violin_raquel_pitch_stability',), ('violin_raquel_timbre_stability',), ('violin_raquel_richness',), ('violin_raquel_attack',), ('violin_laia_improvement_recordings',), ('violin_laia_improvement_recordings_2',), ('violin_violin_scales_laia_recordings',)]\n"
     ]
    }
   ],
   "source": [
    "#display all folder where the audio belongs to\n",
    "query = \"\"\"SELECT DISTINCT folder FROM violinSounds\"\"\"\n",
    "cursor.execute(query)\n",
    "print(cursor.fetchall())"
   ]
  },
  {
   "cell_type": "code",
   "execution_count": 8,
   "id": "de6141f0",
   "metadata": {},
   "outputs": [
    {
     "name": "stdout",
     "output_type": "stream",
     "text": [
      "[('good-sound',), ('bad-dynamics-crescendo',), ('bad-dynamics-decrescendo',), ('bad-dynamics-tremolo',), ('bad-dynamics-errors',), ('bad-pitch-vibrato',), ('bad-pitch-errors',), ('bad-timbre-errors',), ('bad-richness-bridge',), ('bad-richness-sultasto',), ('bad-attack-pressure',), ('bad-attack-rebond',), ('bad-dynamics',), ('bad-pitch',), ('bad-timbre',), ('bad-richness',), ('bad-attack',), ('scale-good-staccato',), ('scale-good-staccato-minor',), ('scale-bad-pitch-staccato',), ('scale-bad-pitch-staccato-minor',), ('scale-bad-rhythm-staccato',), ('scale-bad-rhythm-staccato-minor',), ('scale-bad-attack-staccato',), ('scale-bad-attack-staccato-minor',), ('scale-bad-timbre-staccato',), ('scale-bad-timbre-staccato-minor',), ('scale-bad-pitch-dirt-staccato',), ('scale-bad-pitch-dirt-staccato-minor',)]\n"
     ]
    }
   ],
   "source": [
    "#display all different types of klasses the dataset has\n",
    "query = \"\"\"SELECT DISTINCT klass FROM violinSounds\"\"\"\n",
    "cursor.execute(query)\n",
    "print(cursor.fetchall())"
   ]
  },
  {
   "cell_type": "code",
   "execution_count": 2,
   "id": "2f0027b2",
   "metadata": {},
   "outputs": [
    {
     "name": "stdout",
     "output_type": "stream",
     "text": [
      "1383\n"
     ]
    }
   ],
   "source": [
    "#Number of rows\n",
    "query = \"\"\"SELECT * FROM violinSounds\"\"\"\n",
    "cursor.execute(query)\n",
    "print(len(cursor.fetchall()))"
   ]
  },
  {
   "cell_type": "code",
   "execution_count": 25,
   "id": "190f0214",
   "metadata": {},
   "outputs": [
    {
     "name": "stdout",
     "output_type": "stream",
     "text": [
      "29\n"
     ]
    }
   ],
   "source": [
    "#All the possible klasses \n",
    "\n",
    "klasses = [('good-sound'), \n",
    "('bad-dynamics-crescendo'), \n",
    "('bad-dynamics-decrescendo'), \n",
    "('bad-dynamics-tremolo'), \n",
    "('bad-dynamics-errors'), \n",
    "('bad-pitch-vibrato'), \n",
    "('bad-pitch-errors'), \n",
    "('bad-timbre-errors'), \n",
    "('bad-richness-bridge'), \n",
    "('bad-richness-sultasto'), \n",
    "('bad-attack-pressure'), \n",
    "('bad-attack-rebond'), \n",
    "('bad-dynamics'), \n",
    "('bad-pitch'), \n",
    "('bad-timbre'), \n",
    "('bad-richness'), \n",
    "('bad-attack'), \n",
    "('scale-good-staccato'),\n",
    "('scale-good-staccato-minor'), \n",
    "('scale-bad-pitch-staccato'), \n",
    "('scale-bad-pitch-staccato-minor'), \n",
    "('scale-bad-rhythm-staccato'), \n",
    "('scale-bad-rhythm-staccato-minor'), \n",
    "('scale-bad-attack-staccato'), \n",
    "('scale-bad-attack-staccato-minor'), \n",
    "('scale-bad-timbre-staccato'), \n",
    "('scale-bad-timbre-staccato-minor'), \n",
    "('scale-bad-pitch-dirt-staccato'), \n",
    "('scale-bad-pitch-dirt-staccato-minor')]\n",
    "\n",
    "print(len(klasses))\n"
   ]
  },
  {
   "cell_type": "markdown",
   "id": "1f121184-d4c6-4d14-a13a-b15eb870e7d8",
   "metadata": {},
   "source": [
    "## Insights"
   ]
  },
  {
   "cell_type": "markdown",
   "id": "1c0c5357",
   "metadata": {},
   "source": [
    "Some audio have multiple klasses sewn into 1. For example, 'bad-richness bad-timbre bad-pitch' is considered as a type of klass in the dataset but it is infact 3 klasses: 'bad-richness', 'bad-timbre' and 'bad-pitch'. \n",
    "Thus, the relationship between audio and klasses is 1-m.\n",
    "\n",
    "In this case, it is a Multi-label classification problem in deep learning. So, when pre-processing the dataset, please follow the labeling techniques of Multi-label classification. For example, suppose there are 20 klasses, where 'bad-richness', 'bad-timbre' and 'bad-pitch' are klass 0, 1, and 2. For a music piece that belongs to these three klasses, it should be labeled as a 20-dimensional vector (1, 1, 1, 0, 0, ..., 0).\n",
    "\n",
    "Need to label each existing class.### Create json version of database (local)"
   ]
  },
  {
   "cell_type": "code",
   "execution_count": 48,
   "id": "56d2c0f8",
   "metadata": {},
   "outputs": [
    {
     "data": {
      "text/plain": [
       "<sqlite3.Cursor at 0x7f431c85f5e0>"
      ]
     },
     "execution_count": 48,
     "metadata": {},
     "output_type": "execute_result"
    }
   ],
   "source": [
    "import sqlite3 \n",
    "sqliteConnection = sqlite3.connect('database.sqlite')\n",
    "cursor = sqliteConnection.cursor()\n",
    "\n",
    "query = \"ALTER TABLE violinSounds DROP COLUMN labelvector\"\n",
    "cursor.execute(query)"
   ]
  },
  {
   "cell_type": "code",
   "execution_count": 49,
   "id": "81e37724-8d81-4fa1-b1db-4943d5d54f90",
   "metadata": {},
   "outputs": [],
   "source": [
    "#Labelling each row. NO NEED TO RUN AGAIN\n",
    "\n",
    "klass_arr = ['good-sound', 'crescendo', 'decrescendo', 'tremolo', 'vibrato', 'errors', 'bad-pitch', 'bad-dynamics',\n",
    "             'bad-timbre','bad-richness', 'bad-attack', 'bad-rhythm', 'bridge', 'sultasto', 'pressure', 'rebond', \n",
    "             'scale-good', 'staccato', 'minor', 'dirt']\n",
    "\n",
    "#new column 'labelvector' created to hold label of 20 klasses\n",
    "#eg. audio is 'klass': 'bad-richness-bridge', vector will be (0,0,0,0,0,0,0,0,0,1,0,0,1,0,0,0,0,0,0,0)\n",
    "\n",
    "#populate the column with their vectors\n",
    "import sqlite3 \n",
    "sqliteConnection = sqlite3.connect('database.sqlite')\n",
    "cursor = sqliteConnection.cursor()\n",
    "\n",
    "# cursor.execute('ALTER TABLE violinSounds ADD labelvector varchar(255)')  #add new column\n",
    "# sqliteConnection.commit()\n",
    "data = cursor.execute('SELECT * FROM violinSounds').fetchall()\n",
    "\n",
    "alter_table_query = \"ALTER TABLE violinSounds ADD COLUMN labelvector TEXT\"\n",
    "cursor.execute(alter_table_query)\n",
    "\n",
    "for row in data:\n",
    "    vec = [0,0,0,0,0,0,0,0,0,0,0,0,0,0,0,0,0,0,0,0]\n",
    "    ref = row[21]\n",
    "    ID = row[0]\n",
    "    for i in range(len(klass_arr)):\n",
    "        if klass_arr[i] == 'crescendo':        #decrescendo contain crescendo\n",
    "            if 'decrescendo' in ref:\n",
    "                vec[i] = 0\n",
    "            elif klass_arr[i] in ref:\n",
    "                vec[i] = 1\n",
    "        elif klass_arr[i] in ref:\n",
    "            vec[i] = 1\n",
    "            \n",
    "    cursor.execute('UPDATE violinSounds SET labelvector = ? WHERE id = ?',(str(tuple(vec)), ID))\n",
    "    sqliteConnection.commit()\n",
    "\n",
    "sqliteConnection.close()\n",
    "\n",
    "#data is now labelled"
   ]
  },
  {
   "cell_type": "code",
   "execution_count": 50,
   "id": "e83bbe77-6899-4fca-b7bc-c68f41f1c9e9",
   "metadata": {},
   "outputs": [],
   "source": [
    "sqliteConnection.close()"
   ]
  },
  {
   "cell_type": "markdown",
   "id": "c0bf8745-ce2d-4967-a7e9-59a4fe44929d",
   "metadata": {},
   "source": [
    "### Create json version of database (local)"
   ]
  },
  {
   "cell_type": "code",
   "execution_count": null,
   "id": "fb104a55-e924-44ff-a7dc-1ec4707b295e",
   "metadata": {},
   "outputs": [],
   "source": [
    "# format: \n",
    "# {\n",
    "#     \"wav\": \"path to audio\",\n",
    "#     \"labels\": \"label_id1, label_id2, label_id3\"\n",
    "# }"
   ]
  },
  {
   "cell_type": "code",
   "execution_count": 51,
   "id": "7744249f",
   "metadata": {},
   "outputs": [
    {
     "name": "stdout",
     "output_type": "stream",
     "text": [
      "[('packs',), ('takes',), ('ratings',), ('sounds',), ('sounds_emptyklass',), ('violinSounds',)]\n"
     ]
    }
   ],
   "source": [
    "import sqlite3 \n",
    "sqliteConnection = sqlite3.connect('database.sqlite')\n",
    "cursor = sqliteConnection.cursor()\n",
    "\n",
    "# Test connection\n",
    "sql_query = \"\"\"SELECT name FROM sqlite_master WHERE type='table';\"\"\"\n",
    "cursor.execute(sql_query)\n",
    "print(cursor.fetchall())"
   ]
  },
  {
   "cell_type": "code",
   "execution_count": 52,
   "id": "17bafa67",
   "metadata": {},
   "outputs": [
    {
     "name": "stdout",
     "output_type": "stream",
     "text": [
      "JSON file created at: data.json\n"
     ]
    }
   ],
   "source": [
    "import json\n",
    "query = \"SELECT folder, pack_filename, labelvector FROM violinSounds\"\n",
    "cursor.execute(query)\n",
    "rows = cursor.fetchall()\n",
    "\n",
    "base_dir = r\"C:\\Users\\agnes\\Documents\\NTU\\z_Y4S1 Modules\\FYP\\Train Dataset\\good-sounds\\sound_files\"\n",
    "\n",
    "data_list = []\n",
    "for folder, pack_filename, labelvector in rows:\n",
    "    file_path = f\"{base_dir}\\{folder}\\{pack_filename}\"\n",
    "    #print(file_path)\n",
    "    labelvector = eval(labelvector)\n",
    "    label_ids = [str(index + 1) for index, value in enumerate(labelvector) if value == 1]\n",
    "\n",
    "    data_list.append({\n",
    "        \"wav\": file_path,\n",
    "        \"labels\": \", \".join(label_ids)\n",
    "    })\n",
    "\n",
    "output_data = {\n",
    "    \"data\": data_list\n",
    "}\n",
    "\n",
    "# Save to a JSON file\n",
    "output_json_path = \"data.json\"\n",
    "with open(output_json_path, \"w\") as json_file:\n",
    "    json.dump(output_data, json_file, indent=4)\n",
    "\n",
    "print(f\"JSON file created at: {output_json_path}\")"
   ]
  },
  {
   "cell_type": "code",
   "execution_count": null,
   "id": "ff9b84b4",
   "metadata": {},
   "outputs": [],
   "source": []
  },
  {
   "cell_type": "markdown",
   "id": "496bfec4",
   "metadata": {},
   "source": [
    "### Create json version of database (colab)"
   ]
  },
  {
   "cell_type": "code",
   "execution_count": 53,
   "id": "bb84d74e",
   "metadata": {},
   "outputs": [
    {
     "name": "stdout",
     "output_type": "stream",
     "text": [
      "JSON file created at: data_colab.json\n"
     ]
    }
   ],
   "source": [
    "import json\n",
    "query = \"SELECT folder, pack_filename, labelvector FROM violinSounds\"\n",
    "cursor.execute(query)\n",
    "rows = cursor.fetchall()\n",
    "\n",
    "base_dir = r\"sound_files\"\n",
    "\n",
    "data_list = []\n",
    "for folder, pack_filename, labelvector in rows:\n",
    "    file_path = f\"{base_dir}/{folder}/{pack_filename}\"\n",
    "    #print(file_path)\n",
    "    labelvector = eval(labelvector)\n",
    "    label_ids = [str(index + 1) for index, value in enumerate(labelvector) if value == 1]\n",
    "\n",
    "    data_list.append({\n",
    "        \"wav\": file_path,\n",
    "        \"labels\": \", \".join(label_ids)\n",
    "    })\n",
    "\n",
    "output_data = {\n",
    "    \"data\": data_list\n",
    "}\n",
    "\n",
    "# Save to a JSON file\n",
    "output_json_path = \"data_colab.json\"\n",
    "with open(output_json_path, \"w\") as json_file:\n",
    "    json.dump(output_data, json_file, indent=4)\n",
    "\n",
    "print(f\"JSON file created at: {output_json_path}\")"
   ]
  },
  {
   "cell_type": "code",
   "execution_count": 54,
   "id": "05063f02",
   "metadata": {},
   "outputs": [],
   "source": [
    "sqliteConnection.close()"
   ]
  },
  {
   "cell_type": "markdown",
   "id": "882f8823-adac-40d2-9e8a-f9507eaabb0c",
   "metadata": {},
   "source": [
    "## Split Dataset in Train-test"
   ]
  },
  {
   "cell_type": "code",
   "execution_count": 55,
   "id": "065f3b27-202b-4f51-8162-23dfd8b5e5f1",
   "metadata": {},
   "outputs": [
    {
     "name": "stdout",
     "output_type": "stream",
     "text": [
      "Train-test split completed!\n"
     ]
    }
   ],
   "source": [
    "import json\n",
    "import random\n",
    "\n",
    "# Load the dataset from JSON\n",
    "with open(\"data_colab.json\", \"r\") as file:\n",
    "    data = json.load(file)\n",
    "\n",
    "# Extract the list of samples\n",
    "data_items = data[\"data\"]  # Assuming the dataset is stored under \"data\" key\n",
    "\n",
    "# Shuffle the dataset to ensure randomness\n",
    "random.shuffle(data_items)\n",
    "\n",
    "# Compute split index (80% train, 20% test)\n",
    "split_idx = int(0.8 * len(data_items))\n",
    "\n",
    "# Split data\n",
    "train_data = {\"data\": data_items[:split_idx]}\n",
    "test_data = {\"data\": data_items[split_idx:]}\n",
    "\n",
    "# Save training set\n",
    "with open(\"train_data.json\", \"w\") as train_file:\n",
    "    json.dump(train_data, train_file, indent=4)\n",
    "\n",
    "# Save testing set\n",
    "with open(\"test_data.json\", \"w\") as test_file:\n",
    "    json.dump(test_data, test_file, indent=4)\n",
    "\n",
    "print(\"Train-test split completed!\")\n"
   ]
  },
  {
   "cell_type": "markdown",
   "id": "0de600f3-1148-4516-80db-62e191287c1b",
   "metadata": {},
   "source": [
    "## Number of 1s in each class for Train dataset"
   ]
  },
  {
   "cell_type": "code",
   "execution_count": 56,
   "id": "da521e23-a106-4a68-b988-4aba5fcd63c8",
   "metadata": {},
   "outputs": [
    {
     "name": "stdout",
     "output_type": "stream",
     "text": [
      "Label counts: [175, 30, 31, 30, 26, 92, 184, 285, 113, 113, 134, 41, 31, 32, 30, 28, 61, 216, 95, 24]\n"
     ]
    }
   ],
   "source": [
    "import json\n",
    "\n",
    "# Load the dataset\n",
    "with open(\"train_data.json\", \"r\") as file:\n",
    "    data = json.load(file)\n",
    "\n",
    "# Assuming the dataset is stored under the \"data\" key\n",
    "data_items = data[\"data\"]\n",
    "\n",
    "# Number of classes\n",
    "num_classes = 20\n",
    "\n",
    "# Initialize a list with 20 zeros to store counts\n",
    "label_counts = [0] * num_classes\n",
    "\n",
    "# Count occurrences of each label\n",
    "for item in data_items:\n",
    "    labels = item[\"labels\"].split(\",\")  # Convert \"2,8\" into a list of strings [\"2\", \"8\"]\n",
    "    for label in labels:\n",
    "        label_index = int(label) - 1  # Convert to zero-based index\n",
    "        label_counts[label_index] += 1\n",
    "\n",
    "print(\"Label counts:\", label_counts)\n"
   ]
  },
  {
   "cell_type": "code",
   "execution_count": null,
   "id": "59cc89b9-985a-482b-bcb2-ec5f5a436397",
   "metadata": {},
   "outputs": [],
   "source": []
  }
 ],
 "metadata": {
  "kernelspec": {
   "display_name": "Python 3 (ipykernel)",
   "language": "python",
   "name": "python3"
  },
  "language_info": {
   "codemirror_mode": {
    "name": "ipython",
    "version": 3
   },
   "file_extension": ".py",
   "mimetype": "text/x-python",
   "name": "python",
   "nbconvert_exporter": "python",
   "pygments_lexer": "ipython3",
   "version": "3.9.19"
  }
 },
 "nbformat": 4,
 "nbformat_minor": 5
}
